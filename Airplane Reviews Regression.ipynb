{
 "cells": [
  {
   "cell_type": "markdown",
   "id": "527d671d-e12c-4aaa-9209-f9fa09c1e812",
   "metadata": {},
   "source": [
    "# Multiple linear regression model \n",
    "The modeling objective is to understand how different service-level features contribute to the **Overall Rating** assigned by passengers. To achieve this, a multiple linear regression model will be built using the **Ordinary Least Squares (OLS) method** from the *statsmodels* library."
   ]
  },
  {
   "cell_type": "code",
   "execution_count": 3,
   "id": "7abe5d0a-162d-42cc-b11a-2fbf2338e4a5",
   "metadata": {},
   "outputs": [
    {
     "name": "stdout",
     "output_type": "stream",
     "text": [
      "                            OLS Regression Results                            \n",
      "==============================================================================\n",
      "Dep. Variable:         Overall Rating   R-squared:                       0.437\n",
      "Model:                            OLS   Adj. R-squared:                  0.432\n",
      "Method:                 Least Squares   F-statistic:                     91.07\n",
      "Date:                Wed, 12 Mar 2025   Prob (F-statistic):           4.42e-98\n",
      "Time:                        16:10:53   Log-Likelihood:                -1642.3\n",
      "No. Observations:                 830   AIC:                             3301.\n",
      "Df Residuals:                     822   BIC:                             3338.\n",
      "Df Model:                           7                                         \n",
      "Covariance Type:            nonrobust                                         \n",
      "==========================================================================================\n",
      "                             coef    std err          t      P>|t|      [0.025      0.975]\n",
      "------------------------------------------------------------------------------------------\n",
      "const                     -0.0631      0.126     -0.502      0.616      -0.310       0.184\n",
      "Seat Comfort              -0.0244      0.078     -0.313      0.754      -0.177       0.128\n",
      "Cabin Staff Service        0.3128      0.065      4.812      0.000       0.185       0.440\n",
      "Food & Beverages           0.0722      0.078      0.930      0.353      -0.080       0.225\n",
      "Ground Service             0.1837      0.068      2.691      0.007       0.050       0.318\n",
      "Inflight Entertainment    -0.0463      0.076     -0.609      0.543      -0.196       0.103\n",
      "Wifi & Connectivity       -0.0676      0.078     -0.872      0.384      -0.220       0.085\n",
      "Value For Money            0.7428      0.082      9.061      0.000       0.582       0.904\n",
      "==============================================================================\n",
      "Omnibus:                       57.503   Durbin-Watson:                   1.966\n",
      "Prob(Omnibus):                  0.000   Jarque-Bera (JB):              145.744\n",
      "Skew:                          -0.363   Prob(JB):                     2.25e-32\n",
      "Kurtosis:                       4.920   Cond. No.                         13.3\n",
      "==============================================================================\n",
      "\n",
      "Notes:\n",
      "[1] Standard Errors assume that the covariance matrix of the errors is correctly specified.\n"
     ]
    }
   ],
   "source": [
    "import pandas as pd\n",
    "import numpy as np\n",
    "import statsmodels.api as sm\n",
    "from sklearn.model_selection import train_test_split\n",
    "\n",
    "# Load the dataset\n",
    "df = pd.read_csv(\"Airline_review.csv\")\n",
    "\n",
    "# Convert overall rating to numeric\n",
    "df['Overall Rating'] = pd.to_numeric(df['Overall_Rating'], errors='coerce')\n",
    "\n",
    "# Define feature columns and target variable\n",
    "features = [\"Seat Comfort\", \"Cabin Staff Service\", \"Food & Beverages\", \"Ground Service\", \n",
    "            \"Inflight Entertainment\", \"Wifi & Connectivity\", \"Value For Money\"]\n",
    "target = \"Overall Rating\"\n",
    "\n",
    "# Convert feature columns to numeric (handling missing values)\n",
    "df[features] = df[features].apply(pd.to_numeric, errors='coerce')\n",
    "\n",
    "# Drop rows with missing values in either features or target\n",
    "df = df.dropna(subset=features + [target])\n",
    "\n",
    "# Prepare independent (X) and dependent (y) variables\n",
    "X = df[features]\n",
    "y = df[target]\n",
    "\n",
    "# Add constant term for intercept\n",
    "X = sm.add_constant(X)\n",
    "\n",
    "# Fit an OLS regression model\n",
    "model = sm.OLS(y, X).fit()\n",
    "\n",
    "# Print summary with coefficients and statistical significance (p-values)\n",
    "print(model.summary())\n"
   ]
  },
  {
   "cell_type": "markdown",
   "id": "2781c467-4cd9-40bc-9c6e-0b2d7b258cac",
   "metadata": {},
   "source": [
    "## 1. Model Fit (R-Squared and Adjusted R-Squared)\n",
    "R-squared = 0.437 → The model explains 43.7% of the variation in Overall Rating based on the selected predictors.\n",
    "Adjusted R-squared = 0.432 → Similar to R² but adjusted for the number of predictors. A value of 0.432 suggests that there are other important factors not included in this model.\n",
    "🔹 Interpretation: The model has moderate explanatory power, but other variables (e.g., ticket price, flight duration, delays) could improve its predictive accuracy."
   ]
  },
  {
   "cell_type": "markdown",
   "id": "290806fa-805e-4508-9247-417e6e6320ab",
   "metadata": {},
   "source": [
    "## 2. Statistical Significance of the Model (F-Statistic and P-Value)\n",
    "F-statistic = 91.07, P-value = 4.42e-98 (very small)\n",
    "This means that at least one of the predictors is significantly contributing to the model.\n",
    "🔹 Interpretation: The model is statistically significant overall."
   ]
  },
  {
   "cell_type": "markdown",
   "id": "41d49158-7194-4234-b5a4-c69f7fbb4be1",
   "metadata": {},
   "source": [
    "## 3. Interpretation of Individual Predictors (Coefficients, T-Values, and P-Values)\n",
    "Each coefficient tells us how much Overall Rating changes when the respective feature increases by one unit, holding all other variables constant.\n",
    "\n",
    "| Predictor               | Coefficient | P-Value | Interpretation |\n",
    "|-------------------------|------------|---------|---------------|\n",
    "| **const (Intercept)**   | -0.0631    | 0.616   | Not significant; the baseline rating when all factors are 0. |\n",
    "| **Seat Comfort**        | -0.0244    | 0.754   | 🚫 Not significant (P > 0.05). Does not strongly impact overall rating. |\n",
    "| **Cabin Staff Service** | 0.3128     | 0.000   | ✅ Strong positive impact on overall rating. |\n",
    "| **Food & Beverages**    | 0.0722     | 0.353   | 🚫 Not significant (P > 0.05). Does not strongly impact overall rating. |\n",
    "| **Ground Service**      | 0.1837     | 0.007   | ✅ Moderate positive impact on overall rating. |\n",
    "| **Inflight Entertainment** | -0.0463  | 0.543   | 🚫 Not significant (P > 0.05). No strong impact on overall rating. |\n",
    "| **Wifi & Connectivity** | -0.0676    | 0.384   | 🚫 Not significant (P > 0.05). No strong impact on overall rating. |\n",
    "| **Value For Money**     | 0.7428     | 0.000   | ✅ Strongest positive impact on overall rating. |\n",
    "\n",
    "\n",
    "#### Key Takeaways:\n",
    "\n",
    "The most significant factors influencing Overall Rating are:\n",
    "\n",
    "✅ Value for Money (Strongest impact, Coefficient = 0.7428, P < 0.001)\n",
    "✅ Cabin Staff Service (Positive impact, Coefficient = 0.3128, P < 0.001)\n",
    "✅ Ground Service (Moderate impact, Coefficient = 0.1837, P = 0.007)\n",
    "Factors that surprisingly have NO significant effect on Overall Rating:\n",
    "\n",
    "🚫 Seat Comfort (P = 0.754)\n",
    "🚫 Food & Beverages (P = 0.353)\n",
    "🚫 Inflight Entertainment (P = 0.543)\n",
    "🚫 Wifi & Connectivity (P = 0.384)\n",
    "Possible Explanation: Customers might prioritize Value for Money and Cabin Crew Service over factors like Seat Comfort, Entertainment, or Wifi.\n"
   ]
  },
  {
   "cell_type": "markdown",
   "id": "e3692f8a-88ae-4a51-8e48-7740d67b7c95",
   "metadata": {},
   "source": [
    "## 4. Multicollinearity Check (Condition Number)\n",
    "Condition Number = 13.3 (below 30)\n",
    "🔹 Interpretation: No serious multicollinearity issues (predictors are not strongly correlated with each other).\n"
   ]
  },
  {
   "cell_type": "markdown",
   "id": "91d5354b-6bc9-4c1b-83d4-fd3831017392",
   "metadata": {},
   "source": [
    "## 5. Residual Analysis (Model Assumptions)\n",
    "Durbin-Watson = 1.966 → Indicates no strong autocorrelation in residuals (good).\n",
    "Jarque-Bera Test (Prob = 2.25e-32) → Shows some non-normality in residuals (might need further checks).\n"
   ]
  },
  {
   "cell_type": "markdown",
   "id": "263cdb53-87fb-4afa-8a67-0dd820b11f8c",
   "metadata": {},
   "source": [
    "## Final Summary:\n",
    "✅ Key predictors:\n",
    "\n",
    "- Value for Money (Most important)\n",
    "- Cabin Staff Service\n",
    "- Ground Service\n",
    "\n",
    "❌ Not significant predictors:\n",
    "\n",
    "- Seat Comfort\n",
    "- Food & Beverages\n",
    "- Inflight Entertainment\n",
    "- Wifi & Connectivity\n",
    "  \n",
    "🎯 Insights for Airlines:\n",
    "\n",
    "- Invest in \"Value for Money\" improvements (better services at competitive prices).\n",
    "- Train and support cabin staff for better customer service.\n",
    "- Ground service matters – ensure smooth check-in, baggage handling, and boarding."
   ]
  }
 ],
 "metadata": {
  "kernelspec": {
   "display_name": "Python 3 (ipykernel)",
   "language": "python",
   "name": "python3"
  },
  "language_info": {
   "codemirror_mode": {
    "name": "ipython",
    "version": 3
   },
   "file_extension": ".py",
   "mimetype": "text/x-python",
   "name": "python",
   "nbconvert_exporter": "python",
   "pygments_lexer": "ipython3",
   "version": "3.9.7"
  }
 },
 "nbformat": 4,
 "nbformat_minor": 5
}
